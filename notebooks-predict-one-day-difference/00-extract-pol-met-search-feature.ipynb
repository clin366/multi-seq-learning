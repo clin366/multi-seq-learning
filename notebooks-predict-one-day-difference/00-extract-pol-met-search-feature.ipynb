{
 "cells": [
  {
   "cell_type": "code",
   "execution_count": 1,
   "metadata": {},
   "outputs": [],
   "source": [
    "import os \n",
    "os.chdir(os.path.pardir)"
   ]
  },
  {
   "cell_type": "code",
   "execution_count": 2,
   "metadata": {},
   "outputs": [],
   "source": [
    "import pandas as pd\n",
    "import numpy as np"
   ]
  },
  {
   "cell_type": "code",
   "execution_count": 3,
   "metadata": {},
   "outputs": [],
   "source": [
    "trend_fea = pd.read_csv('data/external/atlanta_search.csv')\n",
    "seed_path = 'data/external/seed_common.txt'\n",
    "seed_terms = []\n",
    "with open(seed_path, 'r') as fi:\n",
    "    line = fi.readline().strip().replace(' ', '_')\n",
    "    while line:\n",
    "        seed_terms.append(line)\n",
    "        line = fi.readline().strip().replace(' ', '_')\n",
    "seed_terms.sort()\n",
    "merge_terms = [k for k in trend_fea.columns if k in seed_terms]\n",
    "seed_trend_df = trend_fea[merge_terms]\n",
    "seed_trend_df.index = pd.to_datetime(trend_fea.iloc[:,0])\n",
    "seed_trend_df = seed_trend_df.sort_index()\n",
    "seed_trend_df = seed_trend_df.asfreq('D', fill_value=np.nan)\n",
    "seed_trend_df['Date'] = seed_trend_df.index\n",
    "seed_trend_df.reset_index(drop=True, inplace=True)\n",
    "meteo_data = pd.read_csv('data/external/atlanta_rh_temp.csv')\n",
    "meteo_data['Date'] = pd.to_datetime(meteo_data['Date'])\n",
    "pm25_data = pd.read_csv('data/external/fire_station_pm25_2011_2018.csv')\n",
    "pm25_data.index = pd.to_datetime(pm25_data['Date'])\n",
    "pm25_data.sort_index(inplace=True)\n",
    "pm25_data = pm25_data.asfreq('D', fill_value=np.nan)\n",
    "pm25_data['Date'] = pm25_data.index\n",
    "pm25_data.reset_index(drop=True, inplace=True)\n",
    "merged_data = pd.merge(pm25_data[['Date', 'Daily_Mean_PM2_5_Concentration']], meteo_data, how='left', on='Date')\n",
    "merged_data = pd.merge(merged_data, seed_trend_df, how='left', on='Date')\n"
   ]
  },
  {
   "cell_type": "code",
   "execution_count": 5,
   "metadata": {},
   "outputs": [],
   "source": [
    "merged_data.reset_index(drop=True, inplace=True)"
   ]
  },
  {
   "cell_type": "code",
   "execution_count": 6,
   "metadata": {},
   "outputs": [],
   "source": [
    "def get_index_range(df, start_date, end_date):\n",
    "    '''\n",
    "    start_date: str, format \"%y-%m-%d\", e.g. \"2011-01-01\"\n",
    "    '''\n",
    "    return df[(df['Date']>=start_date) & (df['Date']<=end_date)].index.values "
   ]
  },
  {
   "cell_type": "code",
   "execution_count": 7,
   "metadata": {},
   "outputs": [],
   "source": [
    "train_index = get_index_range(merged_data, '2011-01-01', '2016-12-31')\n",
    "valid_index = get_index_range(merged_data, '2017-01-01', '2017-12-31')\n",
    "test_index = get_index_range(merged_data, '2018-01-01', '2018-12-31')\n",
    "\n",
    "merged_data_arr = merged_data.drop(['Date'], axis = 1).values"
   ]
  },
  {
   "cell_type": "code",
   "execution_count": 9,
   "metadata": {},
   "outputs": [],
   "source": [
    "masking = (~np.isnan(merged_data_arr)).astype(int)\n",
    "\n",
    "delta = np.zeros((masking.shape[0], masking.shape[1]))\n",
    "for value_pos, value in np.ndenumerate(masking):\n",
    "    '''\n",
    "    value_pos: tuple (row, col)\n",
    "    value: int, 1 or 0\n",
    "    '''\n",
    "    row = value_pos[0]\n",
    "    col = value_pos[1]\n",
    "    \n",
    "    # first day, delta equals 0 \n",
    "    if row == 0:\n",
    "        delta[row, col] = 0\n",
    "    # if previous day exist \n",
    "    elif masking[row-1, col] == 1:\n",
    "        delta[row, col] = 1\n",
    "    # if previous day not exist values\n",
    "    else:\n",
    "        delta[row, col] = delta[row-1, col] + 1 \n",
    "\n",
    "total_days = len(merged_data_arr)\n",
    "seq_len = 7"
   ]
  },
  {
   "cell_type": "code",
   "execution_count": 10,
   "metadata": {},
   "outputs": [],
   "source": [
    "def get_feature_sequence(feature_matrix, seq_len):\n",
    "    feature_sequence = []\n",
    "    total_days = len(feature_matrix)\n",
    "    for i in range(total_days - seq_len):\n",
    "#         print(i)\n",
    "        feature_sequence.append(feature_matrix[i:i+seq_len])\n",
    "    return np.array(feature_sequence)\n",
    "\n",
    "def get_label_sequence(label_arr, seq_len):\n",
    "    label_sequence = []\n",
    "    total_days = len(label_arr)\n",
    "    for i in range(total_days - seq_len):\n",
    "        label_sequence.append(label_arr[i+seq_len])\n",
    "    return np.array(label_sequence) "
   ]
  },
  {
   "cell_type": "code",
   "execution_count": 11,
   "metadata": {},
   "outputs": [],
   "source": [
    "fea_seq = get_feature_sequence(merged_data_arr, seq_len)"
   ]
  },
  {
   "cell_type": "code",
   "execution_count": 25,
   "metadata": {},
   "outputs": [],
   "source": [
    "merged_label =  merged_data[['Daily_Mean_PM2_5_Concentration']].values"
   ]
  },
  {
   "cell_type": "code",
   "execution_count": 26,
   "metadata": {},
   "outputs": [],
   "source": [
    "merged_label[1:] = merged_label[1:] - pd_fillna(merged_label)[0:-1]"
   ]
  },
  {
   "cell_type": "code",
   "execution_count": 29,
   "metadata": {},
   "outputs": [],
   "source": [
    "merged_label[0]  = np.nan"
   ]
  },
  {
   "cell_type": "code",
   "execution_count": null,
   "metadata": {},
   "outputs": [],
   "source": []
  },
  {
   "cell_type": "code",
   "execution_count": 30,
   "metadata": {},
   "outputs": [],
   "source": [
    "label_seq = get_label_sequence(merged_label, seq_len)"
   ]
  },
  {
   "cell_type": "code",
   "execution_count": 31,
   "metadata": {},
   "outputs": [],
   "source": [
    "# fill na with previous value\n",
    "def pd_fillna(feature_matrix, method = 'ffill'):\n",
    "    return pd.DataFrame(feature_matrix).fillna(method='ffill').values\n",
    "\n",
    "# fill na with zero \n",
    "def pd_fillna_zero(feature_matrix):\n",
    "    return pd.DataFrame(feature_matrix).fillna(0.).values\n",
    "\n",
    "merged_data_feature_matrix = pd_fillna(merged_data_arr)\n",
    "merged_data_feature_matrix = pd_fillna_zero(merged_data_feature_matrix)\n",
    "\n",
    "# last observation if nans, however, if not na, its itself\n",
    "last_observation_seq = get_feature_sequence(merged_data_feature_matrix, seq_len)\n",
    "masking_seq = get_feature_sequence(masking, seq_len)\n",
    "delta_seq = get_feature_sequence(delta, seq_len)\n",
    "train_valid_test_split = np.array([len(train_index)-seq_len, len(valid_index), len(test_index)])"
   ]
  },
  {
   "cell_type": "code",
   "execution_count": 34,
   "metadata": {},
   "outputs": [],
   "source": [
    "save_folder = 'data/raw/predict-one-day-diff/pol-met-search'"
   ]
  },
  {
   "cell_type": "code",
   "execution_count": 37,
   "metadata": {},
   "outputs": [],
   "source": [
    "os.mkdir(save_folder)"
   ]
  },
  {
   "cell_type": "code",
   "execution_count": 38,
   "metadata": {},
   "outputs": [],
   "source": [
    "save_files_dict = {\n",
    "    'fea_seq.npy': fea_seq,\n",
    "    'last_observation_seq.npy':last_observation_seq,\n",
    "    'label_seq.npy': label_seq,\n",
    "    'masking_seq.npy': masking_seq,\n",
    "    'delta_seq.npy': delta_seq,\n",
    "    'train_valid_test_split.npy': train_valid_test_split \n",
    "}"
   ]
  },
  {
   "cell_type": "code",
   "execution_count": 39,
   "metadata": {},
   "outputs": [],
   "source": [
    "for file_name in save_files_dict.keys():\n",
    "    np.save(os.path.join(save_folder, file_name), save_files_dict[file_name])"
   ]
  },
  {
   "cell_type": "code",
   "execution_count": 43,
   "metadata": {},
   "outputs": [
    {
     "data": {
      "text/plain": [
       "-34.800000000000004"
      ]
     },
     "execution_count": 43,
     "metadata": {},
     "output_type": "execute_result"
    }
   ],
   "source": [
    "np.nanmin(label_seq)"
   ]
  },
  {
   "cell_type": "code",
   "execution_count": null,
   "metadata": {},
   "outputs": [],
   "source": []
  },
  {
   "cell_type": "code",
   "execution_count": null,
   "metadata": {},
   "outputs": [],
   "source": []
  }
 ],
 "metadata": {
  "kernelspec": {
   "display_name": "Python [conda env:airpol]",
   "language": "python",
   "name": "conda-env-airpol-py"
  },
  "language_info": {
   "codemirror_mode": {
    "name": "ipython",
    "version": 3
   },
   "file_extension": ".py",
   "mimetype": "text/x-python",
   "name": "python",
   "nbconvert_exporter": "python",
   "pygments_lexer": "ipython3",
   "version": "3.6.10"
  }
 },
 "nbformat": 4,
 "nbformat_minor": 4
}
