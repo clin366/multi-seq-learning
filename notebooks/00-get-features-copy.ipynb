{
 "cells": [
  {
   "cell_type": "code",
   "execution_count": 1,
   "metadata": {},
   "outputs": [],
   "source": [
    "import os "
   ]
  },
  {
   "cell_type": "code",
   "execution_count": 4,
   "metadata": {},
   "outputs": [],
   "source": [
    "os.chdir(os.path.pardir)"
   ]
  },
  {
   "cell_type": "code",
   "execution_count": 6,
   "metadata": {},
   "outputs": [],
   "source": [
    "# os.getcwd()"
   ]
  },
  {
   "cell_type": "code",
   "execution_count": 7,
   "metadata": {},
   "outputs": [],
   "source": [
    "import pandas as pd "
   ]
  },
  {
   "cell_type": "code",
   "execution_count": 71,
   "metadata": {},
   "outputs": [],
   "source": [
    "gwinnett_pm25= pd.read_csv('data/external/fire_station_pm25_2011_2018.csv')"
   ]
  },
  {
   "cell_type": "code",
   "execution_count": 72,
   "metadata": {},
   "outputs": [],
   "source": [
    "gwinnett_pm25['Date'] = pd.to_datetime(gwinnett_pm25['Date'])"
   ]
  },
  {
   "cell_type": "code",
   "execution_count": 73,
   "metadata": {},
   "outputs": [],
   "source": [
    "gwinnett_pm25 = gwinnett_pm25.sort_values('Date')\n"
   ]
  },
  {
   "cell_type": "code",
   "execution_count": 74,
   "metadata": {},
   "outputs": [],
   "source": [
    "gwinnett_pm25.index = gwinnett_pm25['Date']"
   ]
  },
  {
   "cell_type": "code",
   "execution_count": 75,
   "metadata": {},
   "outputs": [],
   "source": [
    "import numpy as np"
   ]
  },
  {
   "cell_type": "code",
   "execution_count": 76,
   "metadata": {},
   "outputs": [],
   "source": [
    "gwinnett_pm25 = gwinnett_pm25.asfreq('D', fill_value=np.nan)\n",
    "gwinnett_pm25['Date'] = gwinnett_pm25.index"
   ]
  },
  {
   "cell_type": "code",
   "execution_count": 78,
   "metadata": {},
   "outputs": [],
   "source": [
    "gwinnett_pm25 = gwinnett_pm25.reset_index(drop=True)"
   ]
  },
  {
   "cell_type": "code",
   "execution_count": 79,
   "metadata": {},
   "outputs": [],
   "source": [
    "train_index = gwinnett_pm25[(gwinnett_pm25['Date'] >= '2011-01-01')\n",
    "                                 & (gwinnett_pm25['Date'] <= '2016-12-31')].index.values\n",
    "validation_index = gwinnett_pm25[(gwinnett_pm25['Date'] >= '2017-01-01')\n",
    "                                 & (gwinnett_pm25['Date'] <= '2017-12-31')].index.values\n",
    "test_index = gwinnett_pm25[(gwinnett_pm25['Date'] >= '2018-01-01')\n",
    "                                 & (gwinnett_pm25['Date'] <= '2018-12-31')].index.values"
   ]
  },
  {
   "cell_type": "code",
   "execution_count": 117,
   "metadata": {},
   "outputs": [
    {
     "data": {
      "text/html": [
       "<div>\n",
       "<style scoped>\n",
       "    .dataframe tbody tr th:only-of-type {\n",
       "        vertical-align: middle;\n",
       "    }\n",
       "\n",
       "    .dataframe tbody tr th {\n",
       "        vertical-align: top;\n",
       "    }\n",
       "\n",
       "    .dataframe thead th {\n",
       "        text-align: right;\n",
       "    }\n",
       "</style>\n",
       "<table border=\"1\" class=\"dataframe\">\n",
       "  <thead>\n",
       "    <tr style=\"text-align: right;\">\n",
       "      <th></th>\n",
       "      <th>Daily_Mean_PM2_5_Concentration</th>\n",
       "    </tr>\n",
       "  </thead>\n",
       "  <tbody>\n",
       "    <tr>\n",
       "      <th>count</th>\n",
       "      <td>906.000000</td>\n",
       "    </tr>\n",
       "    <tr>\n",
       "      <th>mean</th>\n",
       "      <td>10.466004</td>\n",
       "    </tr>\n",
       "    <tr>\n",
       "      <th>std</th>\n",
       "      <td>4.772114</td>\n",
       "    </tr>\n",
       "    <tr>\n",
       "      <th>min</th>\n",
       "      <td>0.300000</td>\n",
       "    </tr>\n",
       "    <tr>\n",
       "      <th>25%</th>\n",
       "      <td>7.000000</td>\n",
       "    </tr>\n",
       "    <tr>\n",
       "      <th>50%</th>\n",
       "      <td>10.000000</td>\n",
       "    </tr>\n",
       "    <tr>\n",
       "      <th>75%</th>\n",
       "      <td>13.100000</td>\n",
       "    </tr>\n",
       "    <tr>\n",
       "      <th>max</th>\n",
       "      <td>53.200000</td>\n",
       "    </tr>\n",
       "  </tbody>\n",
       "</table>\n",
       "</div>"
      ],
      "text/plain": [
       "       Daily_Mean_PM2_5_Concentration\n",
       "count                      906.000000\n",
       "mean                        10.466004\n",
       "std                          4.772114\n",
       "min                          0.300000\n",
       "25%                          7.000000\n",
       "50%                         10.000000\n",
       "75%                         13.100000\n",
       "max                         53.200000"
      ]
     },
     "execution_count": 117,
     "metadata": {},
     "output_type": "execute_result"
    }
   ],
   "source": [
    "# gwinnett_pm25[['Daily_Mean_PM2_5_Concentration']].describe()"
   ]
  },
  {
   "cell_type": "code",
   "execution_count": 152,
   "metadata": {},
   "outputs": [
    {
     "data": {
      "text/html": [
       "<div>\n",
       "<style scoped>\n",
       "    .dataframe tbody tr th:only-of-type {\n",
       "        vertical-align: middle;\n",
       "    }\n",
       "\n",
       "    .dataframe tbody tr th {\n",
       "        vertical-align: top;\n",
       "    }\n",
       "\n",
       "    .dataframe thead th {\n",
       "        text-align: right;\n",
       "    }\n",
       "</style>\n",
       "<table border=\"1\" class=\"dataframe\">\n",
       "  <thead>\n",
       "    <tr style=\"text-align: right;\">\n",
       "      <th></th>\n",
       "      <th>Date</th>\n",
       "      <th>Source</th>\n",
       "      <th>Site_ID</th>\n",
       "      <th>POC</th>\n",
       "      <th>Daily_Mean_PM2_5_Concentration</th>\n",
       "      <th>UNITS</th>\n",
       "      <th>DAILY_AQI_VALUE</th>\n",
       "      <th>Site_Name</th>\n",
       "      <th>DAILY_OBS_COUNT</th>\n",
       "      <th>PERCENT_COMPLETE</th>\n",
       "      <th>AQS_PARAMETER_CODE</th>\n",
       "      <th>AQS_PARAMETER_DESC</th>\n",
       "      <th>CBSA_CODE</th>\n",
       "      <th>CBSA_NAME</th>\n",
       "      <th>STATE_CODE</th>\n",
       "      <th>STATE</th>\n",
       "      <th>COUNTY_CODE</th>\n",
       "      <th>COUNTY</th>\n",
       "      <th>SITE_LATITUDE</th>\n",
       "      <th>SITE_LONGITUDE</th>\n",
       "    </tr>\n",
       "  </thead>\n",
       "  <tbody>\n",
       "    <tr>\n",
       "      <th>590</th>\n",
       "      <td>2012-10-05</td>\n",
       "      <td>NaN</td>\n",
       "      <td>NaN</td>\n",
       "      <td>NaN</td>\n",
       "      <td>NaN</td>\n",
       "      <td>NaN</td>\n",
       "      <td>NaN</td>\n",
       "      <td>NaN</td>\n",
       "      <td>NaN</td>\n",
       "      <td>NaN</td>\n",
       "      <td>NaN</td>\n",
       "      <td>NaN</td>\n",
       "      <td>NaN</td>\n",
       "      <td>NaN</td>\n",
       "      <td>NaN</td>\n",
       "      <td>NaN</td>\n",
       "      <td>NaN</td>\n",
       "      <td>NaN</td>\n",
       "      <td>NaN</td>\n",
       "      <td>NaN</td>\n",
       "    </tr>\n",
       "    <tr>\n",
       "      <th>591</th>\n",
       "      <td>2012-10-06</td>\n",
       "      <td>NaN</td>\n",
       "      <td>NaN</td>\n",
       "      <td>NaN</td>\n",
       "      <td>NaN</td>\n",
       "      <td>NaN</td>\n",
       "      <td>NaN</td>\n",
       "      <td>NaN</td>\n",
       "      <td>NaN</td>\n",
       "      <td>NaN</td>\n",
       "      <td>NaN</td>\n",
       "      <td>NaN</td>\n",
       "      <td>NaN</td>\n",
       "      <td>NaN</td>\n",
       "      <td>NaN</td>\n",
       "      <td>NaN</td>\n",
       "      <td>NaN</td>\n",
       "      <td>NaN</td>\n",
       "      <td>NaN</td>\n",
       "      <td>NaN</td>\n",
       "    </tr>\n",
       "    <tr>\n",
       "      <th>592</th>\n",
       "      <td>2012-10-07</td>\n",
       "      <td>NaN</td>\n",
       "      <td>NaN</td>\n",
       "      <td>NaN</td>\n",
       "      <td>NaN</td>\n",
       "      <td>NaN</td>\n",
       "      <td>NaN</td>\n",
       "      <td>NaN</td>\n",
       "      <td>NaN</td>\n",
       "      <td>NaN</td>\n",
       "      <td>NaN</td>\n",
       "      <td>NaN</td>\n",
       "      <td>NaN</td>\n",
       "      <td>NaN</td>\n",
       "      <td>NaN</td>\n",
       "      <td>NaN</td>\n",
       "      <td>NaN</td>\n",
       "      <td>NaN</td>\n",
       "      <td>NaN</td>\n",
       "      <td>NaN</td>\n",
       "    </tr>\n",
       "    <tr>\n",
       "      <th>593</th>\n",
       "      <td>2012-10-08</td>\n",
       "      <td>NaN</td>\n",
       "      <td>NaN</td>\n",
       "      <td>NaN</td>\n",
       "      <td>NaN</td>\n",
       "      <td>NaN</td>\n",
       "      <td>NaN</td>\n",
       "      <td>NaN</td>\n",
       "      <td>NaN</td>\n",
       "      <td>NaN</td>\n",
       "      <td>NaN</td>\n",
       "      <td>NaN</td>\n",
       "      <td>NaN</td>\n",
       "      <td>NaN</td>\n",
       "      <td>NaN</td>\n",
       "      <td>NaN</td>\n",
       "      <td>NaN</td>\n",
       "      <td>NaN</td>\n",
       "      <td>NaN</td>\n",
       "      <td>NaN</td>\n",
       "    </tr>\n",
       "    <tr>\n",
       "      <th>594</th>\n",
       "      <td>2012-10-09</td>\n",
       "      <td>NaN</td>\n",
       "      <td>NaN</td>\n",
       "      <td>NaN</td>\n",
       "      <td>NaN</td>\n",
       "      <td>NaN</td>\n",
       "      <td>NaN</td>\n",
       "      <td>NaN</td>\n",
       "      <td>NaN</td>\n",
       "      <td>NaN</td>\n",
       "      <td>NaN</td>\n",
       "      <td>NaN</td>\n",
       "      <td>NaN</td>\n",
       "      <td>NaN</td>\n",
       "      <td>NaN</td>\n",
       "      <td>NaN</td>\n",
       "      <td>NaN</td>\n",
       "      <td>NaN</td>\n",
       "      <td>NaN</td>\n",
       "      <td>NaN</td>\n",
       "    </tr>\n",
       "    <tr>\n",
       "      <th>595</th>\n",
       "      <td>2012-10-10</td>\n",
       "      <td>NaN</td>\n",
       "      <td>NaN</td>\n",
       "      <td>NaN</td>\n",
       "      <td>NaN</td>\n",
       "      <td>NaN</td>\n",
       "      <td>NaN</td>\n",
       "      <td>NaN</td>\n",
       "      <td>NaN</td>\n",
       "      <td>NaN</td>\n",
       "      <td>NaN</td>\n",
       "      <td>NaN</td>\n",
       "      <td>NaN</td>\n",
       "      <td>NaN</td>\n",
       "      <td>NaN</td>\n",
       "      <td>NaN</td>\n",
       "      <td>NaN</td>\n",
       "      <td>NaN</td>\n",
       "      <td>NaN</td>\n",
       "      <td>NaN</td>\n",
       "    </tr>\n",
       "    <tr>\n",
       "      <th>596</th>\n",
       "      <td>2012-10-11</td>\n",
       "      <td>NaN</td>\n",
       "      <td>NaN</td>\n",
       "      <td>NaN</td>\n",
       "      <td>NaN</td>\n",
       "      <td>NaN</td>\n",
       "      <td>NaN</td>\n",
       "      <td>NaN</td>\n",
       "      <td>NaN</td>\n",
       "      <td>NaN</td>\n",
       "      <td>NaN</td>\n",
       "      <td>NaN</td>\n",
       "      <td>NaN</td>\n",
       "      <td>NaN</td>\n",
       "      <td>NaN</td>\n",
       "      <td>NaN</td>\n",
       "      <td>NaN</td>\n",
       "      <td>NaN</td>\n",
       "      <td>NaN</td>\n",
       "      <td>NaN</td>\n",
       "    </tr>\n",
       "    <tr>\n",
       "      <th>597</th>\n",
       "      <td>2012-10-12</td>\n",
       "      <td>NaN</td>\n",
       "      <td>NaN</td>\n",
       "      <td>NaN</td>\n",
       "      <td>NaN</td>\n",
       "      <td>NaN</td>\n",
       "      <td>NaN</td>\n",
       "      <td>NaN</td>\n",
       "      <td>NaN</td>\n",
       "      <td>NaN</td>\n",
       "      <td>NaN</td>\n",
       "      <td>NaN</td>\n",
       "      <td>NaN</td>\n",
       "      <td>NaN</td>\n",
       "      <td>NaN</td>\n",
       "      <td>NaN</td>\n",
       "      <td>NaN</td>\n",
       "      <td>NaN</td>\n",
       "      <td>NaN</td>\n",
       "      <td>NaN</td>\n",
       "    </tr>\n",
       "    <tr>\n",
       "      <th>598</th>\n",
       "      <td>2012-10-13</td>\n",
       "      <td>NaN</td>\n",
       "      <td>NaN</td>\n",
       "      <td>NaN</td>\n",
       "      <td>NaN</td>\n",
       "      <td>NaN</td>\n",
       "      <td>NaN</td>\n",
       "      <td>NaN</td>\n",
       "      <td>NaN</td>\n",
       "      <td>NaN</td>\n",
       "      <td>NaN</td>\n",
       "      <td>NaN</td>\n",
       "      <td>NaN</td>\n",
       "      <td>NaN</td>\n",
       "      <td>NaN</td>\n",
       "      <td>NaN</td>\n",
       "      <td>NaN</td>\n",
       "      <td>NaN</td>\n",
       "      <td>NaN</td>\n",
       "      <td>NaN</td>\n",
       "    </tr>\n",
       "    <tr>\n",
       "      <th>599</th>\n",
       "      <td>2012-10-14</td>\n",
       "      <td>AQS</td>\n",
       "      <td>131210039.0</td>\n",
       "      <td>1.0</td>\n",
       "      <td>9.7</td>\n",
       "      <td>ug/m3 LC</td>\n",
       "      <td>40.0</td>\n",
       "      <td>Fire Station #8</td>\n",
       "      <td>1.0</td>\n",
       "      <td>100.0</td>\n",
       "      <td>88101.0</td>\n",
       "      <td>PM2.5 - Local Conditions</td>\n",
       "      <td>12060.0</td>\n",
       "      <td>Atlanta-Sandy Springs-Roswell, GA</td>\n",
       "      <td>13.0</td>\n",
       "      <td>Georgia</td>\n",
       "      <td>121.0</td>\n",
       "      <td>Fulton</td>\n",
       "      <td>33.802241</td>\n",
       "      <td>-84.435618</td>\n",
       "    </tr>\n",
       "    <tr>\n",
       "      <th>600</th>\n",
       "      <td>2012-10-15</td>\n",
       "      <td>NaN</td>\n",
       "      <td>NaN</td>\n",
       "      <td>NaN</td>\n",
       "      <td>NaN</td>\n",
       "      <td>NaN</td>\n",
       "      <td>NaN</td>\n",
       "      <td>NaN</td>\n",
       "      <td>NaN</td>\n",
       "      <td>NaN</td>\n",
       "      <td>NaN</td>\n",
       "      <td>NaN</td>\n",
       "      <td>NaN</td>\n",
       "      <td>NaN</td>\n",
       "      <td>NaN</td>\n",
       "      <td>NaN</td>\n",
       "      <td>NaN</td>\n",
       "      <td>NaN</td>\n",
       "      <td>NaN</td>\n",
       "      <td>NaN</td>\n",
       "    </tr>\n",
       "    <tr>\n",
       "      <th>601</th>\n",
       "      <td>2012-10-16</td>\n",
       "      <td>NaN</td>\n",
       "      <td>NaN</td>\n",
       "      <td>NaN</td>\n",
       "      <td>NaN</td>\n",
       "      <td>NaN</td>\n",
       "      <td>NaN</td>\n",
       "      <td>NaN</td>\n",
       "      <td>NaN</td>\n",
       "      <td>NaN</td>\n",
       "      <td>NaN</td>\n",
       "      <td>NaN</td>\n",
       "      <td>NaN</td>\n",
       "      <td>NaN</td>\n",
       "      <td>NaN</td>\n",
       "      <td>NaN</td>\n",
       "      <td>NaN</td>\n",
       "      <td>NaN</td>\n",
       "      <td>NaN</td>\n",
       "      <td>NaN</td>\n",
       "    </tr>\n",
       "    <tr>\n",
       "      <th>602</th>\n",
       "      <td>2012-10-17</td>\n",
       "      <td>NaN</td>\n",
       "      <td>NaN</td>\n",
       "      <td>NaN</td>\n",
       "      <td>NaN</td>\n",
       "      <td>NaN</td>\n",
       "      <td>NaN</td>\n",
       "      <td>NaN</td>\n",
       "      <td>NaN</td>\n",
       "      <td>NaN</td>\n",
       "      <td>NaN</td>\n",
       "      <td>NaN</td>\n",
       "      <td>NaN</td>\n",
       "      <td>NaN</td>\n",
       "      <td>NaN</td>\n",
       "      <td>NaN</td>\n",
       "      <td>NaN</td>\n",
       "      <td>NaN</td>\n",
       "      <td>NaN</td>\n",
       "      <td>NaN</td>\n",
       "    </tr>\n",
       "    <tr>\n",
       "      <th>603</th>\n",
       "      <td>2012-10-18</td>\n",
       "      <td>AQS</td>\n",
       "      <td>131210039.0</td>\n",
       "      <td>1.0</td>\n",
       "      <td>9.8</td>\n",
       "      <td>ug/m3 LC</td>\n",
       "      <td>41.0</td>\n",
       "      <td>Fire Station #8</td>\n",
       "      <td>1.0</td>\n",
       "      <td>100.0</td>\n",
       "      <td>88101.0</td>\n",
       "      <td>PM2.5 - Local Conditions</td>\n",
       "      <td>12060.0</td>\n",
       "      <td>Atlanta-Sandy Springs-Roswell, GA</td>\n",
       "      <td>13.0</td>\n",
       "      <td>Georgia</td>\n",
       "      <td>121.0</td>\n",
       "      <td>Fulton</td>\n",
       "      <td>33.802241</td>\n",
       "      <td>-84.435618</td>\n",
       "    </tr>\n",
       "    <tr>\n",
       "      <th>604</th>\n",
       "      <td>2012-10-19</td>\n",
       "      <td>NaN</td>\n",
       "      <td>NaN</td>\n",
       "      <td>NaN</td>\n",
       "      <td>NaN</td>\n",
       "      <td>NaN</td>\n",
       "      <td>NaN</td>\n",
       "      <td>NaN</td>\n",
       "      <td>NaN</td>\n",
       "      <td>NaN</td>\n",
       "      <td>NaN</td>\n",
       "      <td>NaN</td>\n",
       "      <td>NaN</td>\n",
       "      <td>NaN</td>\n",
       "      <td>NaN</td>\n",
       "      <td>NaN</td>\n",
       "      <td>NaN</td>\n",
       "      <td>NaN</td>\n",
       "      <td>NaN</td>\n",
       "      <td>NaN</td>\n",
       "    </tr>\n",
       "  </tbody>\n",
       "</table>\n",
       "</div>"
      ],
      "text/plain": [
       "          Date Source      Site_ID  POC  Daily_Mean_PM2_5_Concentration  \\\n",
       "590 2012-10-05    NaN          NaN  NaN                             NaN   \n",
       "591 2012-10-06    NaN          NaN  NaN                             NaN   \n",
       "592 2012-10-07    NaN          NaN  NaN                             NaN   \n",
       "593 2012-10-08    NaN          NaN  NaN                             NaN   \n",
       "594 2012-10-09    NaN          NaN  NaN                             NaN   \n",
       "595 2012-10-10    NaN          NaN  NaN                             NaN   \n",
       "596 2012-10-11    NaN          NaN  NaN                             NaN   \n",
       "597 2012-10-12    NaN          NaN  NaN                             NaN   \n",
       "598 2012-10-13    NaN          NaN  NaN                             NaN   \n",
       "599 2012-10-14    AQS  131210039.0  1.0                             9.7   \n",
       "600 2012-10-15    NaN          NaN  NaN                             NaN   \n",
       "601 2012-10-16    NaN          NaN  NaN                             NaN   \n",
       "602 2012-10-17    NaN          NaN  NaN                             NaN   \n",
       "603 2012-10-18    AQS  131210039.0  1.0                             9.8   \n",
       "604 2012-10-19    NaN          NaN  NaN                             NaN   \n",
       "\n",
       "        UNITS  DAILY_AQI_VALUE        Site_Name  DAILY_OBS_COUNT  \\\n",
       "590       NaN              NaN              NaN              NaN   \n",
       "591       NaN              NaN              NaN              NaN   \n",
       "592       NaN              NaN              NaN              NaN   \n",
       "593       NaN              NaN              NaN              NaN   \n",
       "594       NaN              NaN              NaN              NaN   \n",
       "595       NaN              NaN              NaN              NaN   \n",
       "596       NaN              NaN              NaN              NaN   \n",
       "597       NaN              NaN              NaN              NaN   \n",
       "598       NaN              NaN              NaN              NaN   \n",
       "599  ug/m3 LC             40.0  Fire Station #8              1.0   \n",
       "600       NaN              NaN              NaN              NaN   \n",
       "601       NaN              NaN              NaN              NaN   \n",
       "602       NaN              NaN              NaN              NaN   \n",
       "603  ug/m3 LC             41.0  Fire Station #8              1.0   \n",
       "604       NaN              NaN              NaN              NaN   \n",
       "\n",
       "     PERCENT_COMPLETE  AQS_PARAMETER_CODE        AQS_PARAMETER_DESC  \\\n",
       "590               NaN                 NaN                       NaN   \n",
       "591               NaN                 NaN                       NaN   \n",
       "592               NaN                 NaN                       NaN   \n",
       "593               NaN                 NaN                       NaN   \n",
       "594               NaN                 NaN                       NaN   \n",
       "595               NaN                 NaN                       NaN   \n",
       "596               NaN                 NaN                       NaN   \n",
       "597               NaN                 NaN                       NaN   \n",
       "598               NaN                 NaN                       NaN   \n",
       "599             100.0             88101.0  PM2.5 - Local Conditions   \n",
       "600               NaN                 NaN                       NaN   \n",
       "601               NaN                 NaN                       NaN   \n",
       "602               NaN                 NaN                       NaN   \n",
       "603             100.0             88101.0  PM2.5 - Local Conditions   \n",
       "604               NaN                 NaN                       NaN   \n",
       "\n",
       "     CBSA_CODE                          CBSA_NAME  STATE_CODE    STATE  \\\n",
       "590        NaN                                NaN         NaN      NaN   \n",
       "591        NaN                                NaN         NaN      NaN   \n",
       "592        NaN                                NaN         NaN      NaN   \n",
       "593        NaN                                NaN         NaN      NaN   \n",
       "594        NaN                                NaN         NaN      NaN   \n",
       "595        NaN                                NaN         NaN      NaN   \n",
       "596        NaN                                NaN         NaN      NaN   \n",
       "597        NaN                                NaN         NaN      NaN   \n",
       "598        NaN                                NaN         NaN      NaN   \n",
       "599    12060.0  Atlanta-Sandy Springs-Roswell, GA        13.0  Georgia   \n",
       "600        NaN                                NaN         NaN      NaN   \n",
       "601        NaN                                NaN         NaN      NaN   \n",
       "602        NaN                                NaN         NaN      NaN   \n",
       "603    12060.0  Atlanta-Sandy Springs-Roswell, GA        13.0  Georgia   \n",
       "604        NaN                                NaN         NaN      NaN   \n",
       "\n",
       "     COUNTY_CODE  COUNTY  SITE_LATITUDE  SITE_LONGITUDE  \n",
       "590          NaN     NaN            NaN             NaN  \n",
       "591          NaN     NaN            NaN             NaN  \n",
       "592          NaN     NaN            NaN             NaN  \n",
       "593          NaN     NaN            NaN             NaN  \n",
       "594          NaN     NaN            NaN             NaN  \n",
       "595          NaN     NaN            NaN             NaN  \n",
       "596          NaN     NaN            NaN             NaN  \n",
       "597          NaN     NaN            NaN             NaN  \n",
       "598          NaN     NaN            NaN             NaN  \n",
       "599        121.0  Fulton      33.802241      -84.435618  \n",
       "600          NaN     NaN            NaN             NaN  \n",
       "601          NaN     NaN            NaN             NaN  \n",
       "602          NaN     NaN            NaN             NaN  \n",
       "603        121.0  Fulton      33.802241      -84.435618  \n",
       "604          NaN     NaN            NaN             NaN  "
      ]
     },
     "execution_count": 152,
     "metadata": {},
     "output_type": "execute_result"
    }
   ],
   "source": [
    "gwinnett_pm25.iloc[590:605,]"
   ]
  },
  {
   "cell_type": "code",
   "execution_count": 187,
   "metadata": {},
   "outputs": [],
   "source": [
    "pm25_matrix = np.array(gwinnett_pm25[['Daily_Mean_PM2_5_Concentration']])"
   ]
  },
  {
   "cell_type": "code",
   "execution_count": 92,
   "metadata": {},
   "outputs": [
    {
     "data": {
      "text/plain": [
       "(2869, 1)"
      ]
     },
     "execution_count": 92,
     "metadata": {},
     "output_type": "execute_result"
    }
   ],
   "source": [
    "pm25_matrix.shape"
   ]
  },
  {
   "cell_type": "code",
   "execution_count": 93,
   "metadata": {},
   "outputs": [],
   "source": [
    "time_len = pm25_matrix.shape[0]"
   ]
  },
  {
   "cell_type": "code",
   "execution_count": 96,
   "metadata": {},
   "outputs": [],
   "source": [
    "pol_sequences, pol_values = [], []"
   ]
  },
  {
   "cell_type": "code",
   "execution_count": 97,
   "metadata": {},
   "outputs": [],
   "source": [
    "seq_len = 7\n",
    "pred_len = 1"
   ]
  },
  {
   "cell_type": "code",
   "execution_count": 220,
   "metadata": {},
   "outputs": [
    {
     "data": {
      "text/plain": [
       "2139"
      ]
     },
     "execution_count": 220,
     "metadata": {},
     "output_type": "execute_result"
    }
   ],
   "source": []
  },
  {
   "cell_type": "code",
   "execution_count": 221,
   "metadata": {},
   "outputs": [
    {
     "data": {
      "text/plain": [
       "365"
      ]
     },
     "execution_count": 221,
     "metadata": {},
     "output_type": "execute_result"
    }
   ],
   "source": []
  },
  {
   "cell_type": "code",
   "execution_count": 222,
   "metadata": {},
   "outputs": [
    {
     "data": {
      "text/plain": [
       "365"
      ]
     },
     "execution_count": 222,
     "metadata": {},
     "output_type": "execute_result"
    }
   ],
   "source": []
  },
  {
   "cell_type": "code",
   "execution_count": 119,
   "metadata": {},
   "outputs": [
    {
     "data": {
      "text/plain": [
       "(2869, 1)"
      ]
     },
     "execution_count": 119,
     "metadata": {},
     "output_type": "execute_result"
    }
   ],
   "source": [
    "pm25_matrix.shape"
   ]
  },
  {
   "cell_type": "code",
   "execution_count": 132,
   "metadata": {},
   "outputs": [],
   "source": [
    "masking = (~np.isnan(pm25_matrix)).astype(int)"
   ]
  },
  {
   "cell_type": "code",
   "execution_count": 133,
   "metadata": {},
   "outputs": [],
   "source": [
    "delta = np.zeros((masking.shape[0], masking.shape[1]))\n",
    "for index, value in np.ndenumerate(masking):\n",
    "    '''\n",
    "    index: tuple of shape (row_num, col_num)\n",
    "    value: numeric value\n",
    "    '''\n",
    "    \n",
    "    # if first sample/day, delta equals 0 \n",
    "    if index[0] == 0:\n",
    "        delta[index[0], index[1]] = 0\n",
    "    # if previous day is not observed \n",
    "    elif masking[index[0] - 1, index[1]] == 0:\n",
    "        delta[index[0], index[1]] = 1 + delta[index[0] - 1, index[1]]\n",
    "    # if previous day is observed \n",
    "    else:\n",
    "        delta[index[0], index[1]] = 1"
   ]
  },
  {
   "cell_type": "code",
   "execution_count": 140,
   "metadata": {},
   "outputs": [
    {
     "data": {
      "text/plain": [
       "(2869, 1)"
      ]
     },
     "execution_count": 140,
     "metadata": {},
     "output_type": "execute_result"
    }
   ],
   "source": [
    "pm25_matrix.shape"
   ]
  },
  {
   "cell_type": "code",
   "execution_count": 141,
   "metadata": {},
   "outputs": [
    {
     "data": {
      "text/plain": [
       "(2869, 1)"
      ]
     },
     "execution_count": 141,
     "metadata": {},
     "output_type": "execute_result"
    }
   ],
   "source": [
    "masking.shape"
   ]
  },
  {
   "cell_type": "code",
   "execution_count": 143,
   "metadata": {},
   "outputs": [
    {
     "data": {
      "text/plain": [
       "(2869, 1)"
      ]
     },
     "execution_count": 143,
     "metadata": {},
     "output_type": "execute_result"
    }
   ],
   "source": [
    "delta.shape"
   ]
  },
  {
   "cell_type": "code",
   "execution_count": 153,
   "metadata": {},
   "outputs": [],
   "source": [
    "# unique, counts = np.unique(delta, return_counts=True)\n",
    "# dict(zip(unique, counts))"
   ]
  },
  {
   "cell_type": "code",
   "execution_count": 157,
   "metadata": {},
   "outputs": [],
   "source": [
    "def get_feature_sequence(fea_matrix, seq_len=7):\n",
    "    fea_sequences = []\n",
    "    time_len = fea_matrix.shape[0]\n",
    "    for i in range(time_len - seq_len - 1):\n",
    "        fea_sequences.append(fea_matrix[i:i+seq_len])        \n",
    "    return np.array(fea_sequences)\n",
    "\n",
    "def get_label_sequence(label_matrix, seq_len=7):\n",
    "    label_sequence = []\n",
    "    time_len = fea_matrix.shape[0]\n",
    "    for i in range(time_len - seq_len - 1):\n",
    "        label_sequence.append(label_matrix[i + seq_len])\n",
    "    return np.array(label_sequence)\n"
   ]
  },
  {
   "cell_type": "code",
   "execution_count": 199,
   "metadata": {},
   "outputs": [],
   "source": [
    "def pandas_fill(fea_matrix):\n",
    "    df = pd.DataFrame(fea_matrix)\n",
    "    out = df.fillna(method='ffill', inplace=False).values\n",
    "    return out"
   ]
  },
  {
   "cell_type": "code",
   "execution_count": 206,
   "metadata": {},
   "outputs": [],
   "source": [
    "fea_matrix = pm25_matrix.copy()"
   ]
  },
  {
   "cell_type": "code",
   "execution_count": 207,
   "metadata": {},
   "outputs": [],
   "source": [
    "fea_matrix = pandas_fill(fea_matrix) "
   ]
  },
  {
   "cell_type": "code",
   "execution_count": 208,
   "metadata": {},
   "outputs": [],
   "source": [
    "fea_sequence = get_feature_sequence(fea_matrix)\n"
   ]
  },
  {
   "cell_type": "code",
   "execution_count": 202,
   "metadata": {},
   "outputs": [],
   "source": [
    "masking_sequence = get_feature_sequence(masking)\n",
    "delta_sequence = get_feature_sequence(delta)"
   ]
  },
  {
   "cell_type": "code",
   "execution_count": 210,
   "metadata": {},
   "outputs": [],
   "source": [
    "pm25_label_sequence = get_label_sequence(pm25_matrix)"
   ]
  },
  {
   "cell_type": "code",
   "execution_count": 226,
   "metadata": {},
   "outputs": [],
   "source": [
    "train_valid_test_split = np.array([len(train_index), len(validation_index), len(test_index)])"
   ]
  },
  {
   "cell_type": "code",
   "execution_count": 216,
   "metadata": {},
   "outputs": [
    {
     "data": {
      "text/plain": [
       "(2861, 1)"
      ]
     },
     "execution_count": 216,
     "metadata": {},
     "output_type": "execute_result"
    }
   ],
   "source": [
    "pm25_label_sequence.shape"
   ]
  },
  {
   "cell_type": "code",
   "execution_count": 229,
   "metadata": {},
   "outputs": [
    {
     "data": {
      "text/plain": [
       "(2861, 7, 1)"
      ]
     },
     "execution_count": 229,
     "metadata": {},
     "output_type": "execute_result"
    }
   ],
   "source": [
    "fea_sequence.shape"
   ]
  },
  {
   "cell_type": "code",
   "execution_count": 203,
   "metadata": {},
   "outputs": [
    {
     "data": {
      "text/plain": [
       "(2861, 7, 1)"
      ]
     },
     "execution_count": 203,
     "metadata": {},
     "output_type": "execute_result"
    }
   ],
   "source": [
    "masking_sequence.shape"
   ]
  },
  {
   "cell_type": "code",
   "execution_count": 204,
   "metadata": {},
   "outputs": [
    {
     "data": {
      "text/plain": [
       "(2861, 7, 1)"
      ]
     },
     "execution_count": 204,
     "metadata": {},
     "output_type": "execute_result"
    }
   ],
   "source": [
    "delta_sequence.shape"
   ]
  },
  {
   "cell_type": "code",
   "execution_count": 238,
   "metadata": {},
   "outputs": [],
   "source": [
    "save_files_dict = {\n",
    "    'train_valid_test_split.npy':train_valid_test_split,\n",
    "    'fea_sequence.npy':fea_sequence,\n",
    "    'masking_sequence.npy':masking_sequence,\n",
    "    'delta_sequence.npy':delta_sequence,\n",
    "    'pm25_label_sequence.npy':pm25_label_sequence\n",
    "}"
   ]
  },
  {
   "cell_type": "code",
   "execution_count": null,
   "metadata": {},
   "outputs": [],
   "source": []
  },
  {
   "cell_type": "code",
   "execution_count": 239,
   "metadata": {},
   "outputs": [],
   "source": [
    "save_folder_path = 'data/raw'"
   ]
  },
  {
   "cell_type": "code",
   "execution_count": 240,
   "metadata": {},
   "outputs": [],
   "source": [
    "for key in save_files_dict.keys():\n",
    "    np.save(os.path.join(save_folder_path, key), save_files_dict[key])\n"
   ]
  }
 ],
 "metadata": {
  "kernelspec": {
   "display_name": "Python [conda env:airpollutionnowcast] *",
   "language": "python",
   "name": "conda-env-airpollutionnowcast-py"
  },
  "language_info": {
   "codemirror_mode": {
    "name": "ipython",
    "version": 3
   },
   "file_extension": ".py",
   "mimetype": "text/x-python",
   "name": "python",
   "nbconvert_exporter": "python",
   "pygments_lexer": "ipython3",
   "version": "3.6.10"
  }
 },
 "nbformat": 4,
 "nbformat_minor": 2
}
