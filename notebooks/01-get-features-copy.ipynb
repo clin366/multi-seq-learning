{
 "cells": [
  {
   "cell_type": "code",
   "execution_count": 1,
   "metadata": {},
   "outputs": [],
   "source": [
    "import os \n",
    "os.chdir(os.path.pardir)"
   ]
  },
  {
   "cell_type": "code",
   "execution_count": 2,
   "metadata": {},
   "outputs": [
    {
     "data": {
      "text/plain": [
       "'/Volumes/Samsung_T5/MacT5/research/multi-seq-learning/multi-seq-learning'"
      ]
     },
     "execution_count": 2,
     "metadata": {},
     "output_type": "execute_result"
    }
   ],
   "source": [
    "os.getcwd()"
   ]
  },
  {
   "cell_type": "code",
   "execution_count": 3,
   "metadata": {},
   "outputs": [],
   "source": [
    "import warnings"
   ]
  },
  {
   "cell_type": "code",
   "execution_count": 4,
   "metadata": {},
   "outputs": [],
   "source": [
    "warnings.filterwarnings('ignore')"
   ]
  },
  {
   "cell_type": "code",
   "execution_count": 5,
   "metadata": {},
   "outputs": [],
   "source": [
    "import pandas as pd "
   ]
  },
  {
   "cell_type": "code",
   "execution_count": 6,
   "metadata": {},
   "outputs": [],
   "source": [
    "import numpy as np"
   ]
  },
  {
   "cell_type": "code",
   "execution_count": 7,
   "metadata": {},
   "outputs": [],
   "source": [
    "firestation_pm25_path = 'data/external/fire_station_pm25_2011_2018.csv'"
   ]
  },
  {
   "cell_type": "code",
   "execution_count": 8,
   "metadata": {},
   "outputs": [],
   "source": [
    "firestation_pm25 = pd.read_csv(firestation_pm25_path)\n",
    "firestation_pm25['Date'] = pd.to_datetime(firestation_pm25['Date'])"
   ]
  },
  {
   "cell_type": "code",
   "execution_count": 9,
   "metadata": {},
   "outputs": [],
   "source": [
    "firestation_pm25.sort_values(['Date'], inplace=True)"
   ]
  },
  {
   "cell_type": "code",
   "execution_count": 10,
   "metadata": {},
   "outputs": [],
   "source": [
    "firestation_pm25.index = firestation_pm25['Date']"
   ]
  },
  {
   "cell_type": "code",
   "execution_count": 11,
   "metadata": {},
   "outputs": [],
   "source": [
    "firestation_pm25 = firestation_pm25.asfreq('D', fill_value=np.nan)"
   ]
  },
  {
   "cell_type": "code",
   "execution_count": 12,
   "metadata": {},
   "outputs": [],
   "source": [
    "firestation_pm25['Date'] = firestation_pm25.index"
   ]
  },
  {
   "cell_type": "code",
   "execution_count": 13,
   "metadata": {},
   "outputs": [],
   "source": [
    "firestation_pm25.reset_index(drop=True, inplace=True)"
   ]
  },
  {
   "cell_type": "code",
   "execution_count": 14,
   "metadata": {},
   "outputs": [],
   "source": [
    "def get_index_range(df, start_date, end_date):\n",
    "    '''\n",
    "    start_date: str, format \"%y-%m-%d\", e.g. \"2011-01-01\"\n",
    "    '''\n",
    "    return df[(df['Date']>=start_date) & (df['Date']<=end_date)].index.values "
   ]
  },
  {
   "cell_type": "code",
   "execution_count": null,
   "metadata": {},
   "outputs": [],
   "source": []
  },
  {
   "cell_type": "code",
   "execution_count": 15,
   "metadata": {},
   "outputs": [],
   "source": [
    "train_index = get_index_range(firestation_pm25, '2011-01-01', '2016-12-31')\n",
    "valid_index = get_index_range(firestation_pm25, '2017-01-01', '2017-12-31')\n",
    "test_index = get_index_range(firestation_pm25, '2018-01-01', '2018-12-31')"
   ]
  },
  {
   "cell_type": "code",
   "execution_count": 16,
   "metadata": {},
   "outputs": [],
   "source": [
    "import numpy as np "
   ]
  },
  {
   "cell_type": "code",
   "execution_count": 17,
   "metadata": {},
   "outputs": [],
   "source": [
    "firestation_pm25_arr = firestation_pm25[['Daily_Mean_PM2_5_Concentration']].values"
   ]
  },
  {
   "cell_type": "code",
   "execution_count": 18,
   "metadata": {},
   "outputs": [],
   "source": [
    "masking = (~np.isnan(firestation_pm25_arr)).astype(int)"
   ]
  },
  {
   "cell_type": "code",
   "execution_count": 19,
   "metadata": {},
   "outputs": [],
   "source": [
    "delta = np.zeros((masking.shape[0], masking.shape[1]))\n",
    "for value_pos, value in np.ndenumerate(masking):\n",
    "    '''\n",
    "    value_pos: tuple (row, col)\n",
    "    value: int, 1 or 0\n",
    "    '''\n",
    "    row = value_pos[0]\n",
    "    col = value_pos[1]\n",
    "    \n",
    "    # first day, delta equals 0 \n",
    "    if row == 0:\n",
    "        delta[row, col] = 0\n",
    "    # if previous day exist \n",
    "    elif masking[row-1, col] == 1:\n",
    "        delta[row, col] = 1\n",
    "    # if previous day not exist values\n",
    "    else:\n",
    "        delta[row, col] = delta[row-1, col] + 1 "
   ]
  },
  {
   "cell_type": "code",
   "execution_count": 20,
   "metadata": {},
   "outputs": [],
   "source": [
    "unique_value, count = np.unique(delta, return_counts = True)"
   ]
  },
  {
   "cell_type": "code",
   "execution_count": 21,
   "metadata": {},
   "outputs": [],
   "source": [
    "# {i:j for i, j in zip(unique_value, count)}"
   ]
  },
  {
   "cell_type": "code",
   "execution_count": 22,
   "metadata": {},
   "outputs": [],
   "source": [
    "total_days = len(firestation_pm25_arr)"
   ]
  },
  {
   "cell_type": "code",
   "execution_count": 23,
   "metadata": {},
   "outputs": [],
   "source": [
    "seq_len = 7"
   ]
  },
  {
   "cell_type": "code",
   "execution_count": 24,
   "metadata": {},
   "outputs": [],
   "source": [
    "def get_feature_sequence(feature_matrix, seq_len):\n",
    "    feature_sequence = []\n",
    "    total_days = len(feature_matrix)\n",
    "    for i in range(total_days - seq_len):\n",
    "#         print(i)\n",
    "        feature_sequence.append(feature_matrix[i:i+seq_len])\n",
    "    return np.array(feature_sequence)\n",
    "\n",
    "def get_label_sequence(label_arr, seq_len):\n",
    "    label_sequence = []\n",
    "    total_days = len(label_arr)\n",
    "    for i in range(total_days - seq_len):\n",
    "        label_sequence.append(label_arr[i+seq_len])\n",
    "    return np.array(label_sequence) "
   ]
  },
  {
   "cell_type": "code",
   "execution_count": null,
   "metadata": {},
   "outputs": [],
   "source": []
  },
  {
   "cell_type": "code",
   "execution_count": 25,
   "metadata": {},
   "outputs": [],
   "source": [
    "fea_seq = get_feature_sequence(firestation_pm25_arr, seq_len)"
   ]
  },
  {
   "cell_type": "code",
   "execution_count": 26,
   "metadata": {},
   "outputs": [],
   "source": [
    "# fill na with previous value\n",
    "def pd_fillna(feature_matrix, method = 'ffill'):\n",
    "    return pd.DataFrame(feature_matrix).fillna(method='ffill').values"
   ]
  },
  {
   "cell_type": "code",
   "execution_count": 27,
   "metadata": {},
   "outputs": [],
   "source": [
    "pm25_feature_matrix = pd_fillna(firestation_pm25_arr)"
   ]
  },
  {
   "cell_type": "code",
   "execution_count": 28,
   "metadata": {},
   "outputs": [],
   "source": [
    "# last observation if nans, however, if not na, its itself\n",
    "last_observation_seq = get_feature_sequence(pm25_feature_matrix, seq_len)"
   ]
  },
  {
   "cell_type": "code",
   "execution_count": null,
   "metadata": {},
   "outputs": [],
   "source": [
    "fea_seq[1]"
   ]
  },
  {
   "cell_type": "code",
   "execution_count": 29,
   "metadata": {},
   "outputs": [],
   "source": [
    "# pm25_feature_matrix"
   ]
  },
  {
   "cell_type": "code",
   "execution_count": 30,
   "metadata": {},
   "outputs": [],
   "source": [
    "# pd.DataFrame(firestation_pm25_arr)"
   ]
  },
  {
   "cell_type": "code",
   "execution_count": 31,
   "metadata": {},
   "outputs": [],
   "source": [
    "label_seq = get_label_sequence(firestation_pm25_arr, seq_len)"
   ]
  },
  {
   "cell_type": "code",
   "execution_count": 32,
   "metadata": {},
   "outputs": [],
   "source": [
    "masking_seq = get_feature_sequence(masking, seq_len)"
   ]
  },
  {
   "cell_type": "code",
   "execution_count": 33,
   "metadata": {},
   "outputs": [],
   "source": [
    "delta_seq = get_feature_sequence(delta, seq_len)"
   ]
  },
  {
   "cell_type": "code",
   "execution_count": 34,
   "metadata": {},
   "outputs": [],
   "source": [
    "train_valid_test_split = np.array([len(train_index)-seq_len, len(valid_index), len(test_index)])"
   ]
  },
  {
   "cell_type": "code",
   "execution_count": 38,
   "metadata": {},
   "outputs": [],
   "source": [
    "save_folder = 'data/raw'"
   ]
  },
  {
   "cell_type": "code",
   "execution_count": 39,
   "metadata": {},
   "outputs": [],
   "source": [
    "save_files_dict = {\n",
    "    'fea_seq.npy': fea_seq,\n",
    "    'last_observation_seq.npy':last_observation_seq,\n",
    "    'label_seq.npy': label_seq,\n",
    "    'masking_seq.npy': masking_seq,\n",
    "    'delta_seq.npy': delta_seq,\n",
    "    'train_valid_test_split.npy': train_valid_test_split \n",
    "}"
   ]
  },
  {
   "cell_type": "code",
   "execution_count": 40,
   "metadata": {},
   "outputs": [],
   "source": [
    "for file_name in save_files_dict.keys():\n",
    "    np.save(os.path.join(save_folder, file_name), save_files_dict[file_name])"
   ]
  },
  {
   "cell_type": "code",
   "execution_count": 41,
   "metadata": {},
   "outputs": [
    {
     "data": {
      "text/plain": [
       "array([[nan],\n",
       "       [9.7],\n",
       "       [nan],\n",
       "       [nan],\n",
       "       [7.4],\n",
       "       [nan],\n",
       "       [nan]])"
      ]
     },
     "execution_count": 41,
     "metadata": {},
     "output_type": "execute_result"
    }
   ],
   "source": [
    "fea_seq[2]"
   ]
  },
  {
   "cell_type": "code",
   "execution_count": null,
   "metadata": {},
   "outputs": [],
   "source": []
  }
 ],
 "metadata": {
  "kernelspec": {
   "display_name": "Python [conda env:airpol]",
   "language": "python",
   "name": "conda-env-airpol-py"
  },
  "language_info": {
   "codemirror_mode": {
    "name": "ipython",
    "version": 3
   },
   "file_extension": ".py",
   "mimetype": "text/x-python",
   "name": "python",
   "nbconvert_exporter": "python",
   "pygments_lexer": "ipython3",
   "version": "3.6.10"
  }
 },
 "nbformat": 4,
 "nbformat_minor": 4
}
